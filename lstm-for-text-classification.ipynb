{
 "cells": [
  {
   "cell_type": "code",
   "execution_count": 1,
   "id": "f485a636",
   "metadata": {
    "_cell_guid": "b1076dfc-b9ad-4769-8c92-a6c4dae69d19",
    "_uuid": "8f2839f25d086af736a60e9eeb907d3b93b6e0e5",
    "execution": {
     "iopub.execute_input": "2022-09-15T06:07:02.459432Z",
     "iopub.status.busy": "2022-09-15T06:07:02.458938Z",
     "iopub.status.idle": "2022-09-15T06:07:03.622703Z",
     "shell.execute_reply": "2022-09-15T06:07:03.621797Z"
    },
    "papermill": {
     "duration": 1.174164,
     "end_time": "2022-09-15T06:07:03.625136",
     "exception": false,
     "start_time": "2022-09-15T06:07:02.450972",
     "status": "completed"
    },
    "tags": []
   },
   "outputs": [
    {
     "name": "stdout",
     "output_type": "stream",
     "text": [
      "/kaggle/input/sms-spam-collection-dataset/spam.csv\n"
     ]
    }
   ],
   "source": [
    "# This Python 3 environment comes with many helpful analytics libraries installed\n",
    "# It is defined by the kaggle/python Docker image: https://github.com/kaggle/docker-python\n",
    "# For example, here's several helpful packages to load\n",
    "\n",
    "import numpy as np # linear algebra\n",
    "import pandas as pd # data processing, CSV file I/O (e.g. pd.read_csv)\n",
    "import matplotlib.pyplot as plt\n",
    "import seaborn as sns\n",
    "%matplotlib inline\n",
    "# Input data files are available in the read-only \"../input/\" directory\n",
    "# For example, running this (by clicking run or pressing Shift+Enter) will list all files under the input directory\n",
    "\n",
    "import os\n",
    "for dirname, _, filenames in os.walk('/kaggle/input'):\n",
    "    for filename in filenames:\n",
    "        print(os.path.join(dirname, filename))\n",
    "\n",
    "# You can write up to 20GB to the current directory (/kaggle/working/) that gets preserved as output when you create a version using \"Save & Run All\" \n",
    "# You can also write temporary files to /kaggle/temp/, but they won't be saved outside of the current session"
   ]
  },
  {
   "cell_type": "code",
   "execution_count": 2,
   "id": "e77240c9",
   "metadata": {
    "execution": {
     "iopub.execute_input": "2022-09-15T06:07:03.640456Z",
     "iopub.status.busy": "2022-09-15T06:07:03.639832Z",
     "iopub.status.idle": "2022-09-15T06:07:10.934812Z",
     "shell.execute_reply": "2022-09-15T06:07:10.933658Z"
    },
    "papermill": {
     "duration": 7.305909,
     "end_time": "2022-09-15T06:07:10.937352",
     "exception": false,
     "start_time": "2022-09-15T06:07:03.631443",
     "status": "completed"
    },
    "tags": []
   },
   "outputs": [],
   "source": [
    "from sklearn.model_selection import train_test_split\n",
    "from keras.layers import Dense , LSTM , Embedding , Dropout , Activation , Flatten\n",
    "from sklearn.preprocessing import LabelEncoder\n",
    "from keras.preprocessing.text import Tokenizer\n",
    "from keras.models import Sequential\n",
    "from keras.preprocessing import sequence\n",
    "from tensorflow.keras.utils import to_categorical\n",
    "from keras.callbacks import EarlyStopping\n",
    "from tensorflow.keras.optimizers import RMSprop"
   ]
  },
  {
   "cell_type": "markdown",
   "id": "403f130f",
   "metadata": {
    "papermill": {
     "duration": 0.00572,
     "end_time": "2022-09-15T06:07:10.949384",
     "exception": false,
     "start_time": "2022-09-15T06:07:10.943664",
     "status": "completed"
    },
    "tags": []
   },
   "source": [
    "There was 2 main problems with RNN and that was \n",
    "* Long term dependency problem in RNNs.\n",
    "* Vanishing Gradient & Exploding Gradient."
   ]
  },
  {
   "cell_type": "markdown",
   "id": "e041b33d",
   "metadata": {
    "papermill": {
     "duration": 0.00535,
     "end_time": "2022-09-15T06:07:10.960565",
     "exception": false,
     "start_time": "2022-09-15T06:07:10.955215",
     "status": "completed"
    },
    "tags": []
   },
   "source": [
    "**And then in 1997 LSTM came into light and solved these problems**"
   ]
  },
  {
   "cell_type": "markdown",
   "id": "2be7d965",
   "metadata": {
    "papermill": {
     "duration": 0.005571,
     "end_time": "2022-09-15T06:07:10.972118",
     "exception": false,
     "start_time": "2022-09-15T06:07:10.966547",
     "status": "completed"
    },
    "tags": []
   },
   "source": [
    "LSTM consists of 4 Gates \n",
    "* Input Gate \n",
    "* Forget Gate\n",
    "* Candidate Gate\n",
    "* Output Gate\n"
   ]
  },
  {
   "cell_type": "markdown",
   "id": "f5108d8d",
   "metadata": {
    "papermill": {
     "duration": 0.005601,
     "end_time": "2022-09-15T06:07:10.983448",
     "exception": false,
     "start_time": "2022-09-15T06:07:10.977847",
     "status": "completed"
    },
    "tags": []
   },
   "source": [
    "Forget gate\n",
    "> Controls whether to erase data from the cell-state.\n",
    "\n",
    "Input gate\n",
    "> Controls whether to write data to the cell-state.\n",
    "\n",
    "Candidate gate\n",
    "> Controls what data to write to the cell-state.\n",
    "\n",
    "Output gate\n",
    "> Controls what data to pass as the output hidden state."
   ]
  },
  {
   "cell_type": "markdown",
   "id": "e4e4b70b",
   "metadata": {
    "papermill": {
     "duration": 0.005709,
     "end_time": "2022-09-15T06:07:10.995216",
     "exception": false,
     "start_time": "2022-09-15T06:07:10.989507",
     "status": "completed"
    },
    "tags": []
   },
   "source": [
    "![ equation lstm ](https://miro.medium.com/max/1400/1*ryIzdQtDwrdx_sJHdufrEQ.png) ![]()\n"
   ]
  },
  {
   "cell_type": "markdown",
   "id": "dd2a90c2",
   "metadata": {
    "papermill": {
     "duration": 0.005594,
     "end_time": "2022-09-15T06:07:11.006739",
     "exception": false,
     "start_time": "2022-09-15T06:07:11.001145",
     "status": "completed"
    },
    "tags": []
   },
   "source": [
    "![ lstm ](https://www.mdpi.com/sensors/sensors-21-05625/article_deploy/html/images/sensors-21-05625-g001.png) ![]()\n"
   ]
  },
  {
   "cell_type": "markdown",
   "id": "e48fbdee",
   "metadata": {
    "papermill": {
     "duration": 0.005381,
     "end_time": "2022-09-15T06:07:11.018602",
     "exception": false,
     "start_time": "2022-09-15T06:07:11.013221",
     "status": "completed"
    },
    "tags": []
   },
   "source": [
    "# Load the data"
   ]
  },
  {
   "cell_type": "code",
   "execution_count": 3,
   "id": "7daa83c5",
   "metadata": {
    "execution": {
     "iopub.execute_input": "2022-09-15T06:07:11.033674Z",
     "iopub.status.busy": "2022-09-15T06:07:11.031897Z",
     "iopub.status.idle": "2022-09-15T06:07:11.067860Z",
     "shell.execute_reply": "2022-09-15T06:07:11.066344Z"
    },
    "papermill": {
     "duration": 0.046353,
     "end_time": "2022-09-15T06:07:11.070729",
     "exception": false,
     "start_time": "2022-09-15T06:07:11.024376",
     "status": "completed"
    },
    "tags": []
   },
   "outputs": [],
   "source": [
    "data = pd.read_csv('../input/sms-spam-collection-dataset/spam.csv',delimiter=',',encoding='latin-1')"
   ]
  },
  {
   "cell_type": "code",
   "execution_count": 4,
   "id": "2f74304c",
   "metadata": {
    "execution": {
     "iopub.execute_input": "2022-09-15T06:07:11.084636Z",
     "iopub.status.busy": "2022-09-15T06:07:11.084022Z",
     "iopub.status.idle": "2022-09-15T06:07:11.107328Z",
     "shell.execute_reply": "2022-09-15T06:07:11.106290Z"
    },
    "papermill": {
     "duration": 0.032151,
     "end_time": "2022-09-15T06:07:11.108994",
     "exception": false,
     "start_time": "2022-09-15T06:07:11.076843",
     "status": "completed"
    },
    "tags": []
   },
   "outputs": [
    {
     "data": {
      "text/html": [
       "<div>\n",
       "<style scoped>\n",
       "    .dataframe tbody tr th:only-of-type {\n",
       "        vertical-align: middle;\n",
       "    }\n",
       "\n",
       "    .dataframe tbody tr th {\n",
       "        vertical-align: top;\n",
       "    }\n",
       "\n",
       "    .dataframe thead th {\n",
       "        text-align: right;\n",
       "    }\n",
       "</style>\n",
       "<table border=\"1\" class=\"dataframe\">\n",
       "  <thead>\n",
       "    <tr style=\"text-align: right;\">\n",
       "      <th></th>\n",
       "      <th>v1</th>\n",
       "      <th>v2</th>\n",
       "      <th>Unnamed: 2</th>\n",
       "      <th>Unnamed: 3</th>\n",
       "      <th>Unnamed: 4</th>\n",
       "    </tr>\n",
       "  </thead>\n",
       "  <tbody>\n",
       "    <tr>\n",
       "      <th>0</th>\n",
       "      <td>ham</td>\n",
       "      <td>Go until jurong point, crazy.. Available only ...</td>\n",
       "      <td>NaN</td>\n",
       "      <td>NaN</td>\n",
       "      <td>NaN</td>\n",
       "    </tr>\n",
       "    <tr>\n",
       "      <th>1</th>\n",
       "      <td>ham</td>\n",
       "      <td>Ok lar... Joking wif u oni...</td>\n",
       "      <td>NaN</td>\n",
       "      <td>NaN</td>\n",
       "      <td>NaN</td>\n",
       "    </tr>\n",
       "    <tr>\n",
       "      <th>2</th>\n",
       "      <td>spam</td>\n",
       "      <td>Free entry in 2 a wkly comp to win FA Cup fina...</td>\n",
       "      <td>NaN</td>\n",
       "      <td>NaN</td>\n",
       "      <td>NaN</td>\n",
       "    </tr>\n",
       "    <tr>\n",
       "      <th>3</th>\n",
       "      <td>ham</td>\n",
       "      <td>U dun say so early hor... U c already then say...</td>\n",
       "      <td>NaN</td>\n",
       "      <td>NaN</td>\n",
       "      <td>NaN</td>\n",
       "    </tr>\n",
       "    <tr>\n",
       "      <th>4</th>\n",
       "      <td>ham</td>\n",
       "      <td>Nah I don't think he goes to usf, he lives aro...</td>\n",
       "      <td>NaN</td>\n",
       "      <td>NaN</td>\n",
       "      <td>NaN</td>\n",
       "    </tr>\n",
       "    <tr>\n",
       "      <th>...</th>\n",
       "      <td>...</td>\n",
       "      <td>...</td>\n",
       "      <td>...</td>\n",
       "      <td>...</td>\n",
       "      <td>...</td>\n",
       "    </tr>\n",
       "    <tr>\n",
       "      <th>5567</th>\n",
       "      <td>spam</td>\n",
       "      <td>This is the 2nd time we have tried 2 contact u...</td>\n",
       "      <td>NaN</td>\n",
       "      <td>NaN</td>\n",
       "      <td>NaN</td>\n",
       "    </tr>\n",
       "    <tr>\n",
       "      <th>5568</th>\n",
       "      <td>ham</td>\n",
       "      <td>Will Ì_ b going to esplanade fr home?</td>\n",
       "      <td>NaN</td>\n",
       "      <td>NaN</td>\n",
       "      <td>NaN</td>\n",
       "    </tr>\n",
       "    <tr>\n",
       "      <th>5569</th>\n",
       "      <td>ham</td>\n",
       "      <td>Pity, * was in mood for that. So...any other s...</td>\n",
       "      <td>NaN</td>\n",
       "      <td>NaN</td>\n",
       "      <td>NaN</td>\n",
       "    </tr>\n",
       "    <tr>\n",
       "      <th>5570</th>\n",
       "      <td>ham</td>\n",
       "      <td>The guy did some bitching but I acted like i'd...</td>\n",
       "      <td>NaN</td>\n",
       "      <td>NaN</td>\n",
       "      <td>NaN</td>\n",
       "    </tr>\n",
       "    <tr>\n",
       "      <th>5571</th>\n",
       "      <td>ham</td>\n",
       "      <td>Rofl. Its true to its name</td>\n",
       "      <td>NaN</td>\n",
       "      <td>NaN</td>\n",
       "      <td>NaN</td>\n",
       "    </tr>\n",
       "  </tbody>\n",
       "</table>\n",
       "<p>5572 rows × 5 columns</p>\n",
       "</div>"
      ],
      "text/plain": [
       "        v1                                                 v2 Unnamed: 2  \\\n",
       "0      ham  Go until jurong point, crazy.. Available only ...        NaN   \n",
       "1      ham                      Ok lar... Joking wif u oni...        NaN   \n",
       "2     spam  Free entry in 2 a wkly comp to win FA Cup fina...        NaN   \n",
       "3      ham  U dun say so early hor... U c already then say...        NaN   \n",
       "4      ham  Nah I don't think he goes to usf, he lives aro...        NaN   \n",
       "...    ...                                                ...        ...   \n",
       "5567  spam  This is the 2nd time we have tried 2 contact u...        NaN   \n",
       "5568   ham              Will Ì_ b going to esplanade fr home?        NaN   \n",
       "5569   ham  Pity, * was in mood for that. So...any other s...        NaN   \n",
       "5570   ham  The guy did some bitching but I acted like i'd...        NaN   \n",
       "5571   ham                         Rofl. Its true to its name        NaN   \n",
       "\n",
       "     Unnamed: 3 Unnamed: 4  \n",
       "0           NaN        NaN  \n",
       "1           NaN        NaN  \n",
       "2           NaN        NaN  \n",
       "3           NaN        NaN  \n",
       "4           NaN        NaN  \n",
       "...         ...        ...  \n",
       "5567        NaN        NaN  \n",
       "5568        NaN        NaN  \n",
       "5569        NaN        NaN  \n",
       "5570        NaN        NaN  \n",
       "5571        NaN        NaN  \n",
       "\n",
       "[5572 rows x 5 columns]"
      ]
     },
     "execution_count": 4,
     "metadata": {},
     "output_type": "execute_result"
    }
   ],
   "source": [
    "data"
   ]
  },
  {
   "cell_type": "code",
   "execution_count": 5,
   "id": "cbd00d43",
   "metadata": {
    "execution": {
     "iopub.execute_input": "2022-09-15T06:07:11.122664Z",
     "iopub.status.busy": "2022-09-15T06:07:11.122096Z",
     "iopub.status.idle": "2022-09-15T06:07:11.150635Z",
     "shell.execute_reply": "2022-09-15T06:07:11.149339Z"
    },
    "papermill": {
     "duration": 0.038154,
     "end_time": "2022-09-15T06:07:11.153189",
     "exception": false,
     "start_time": "2022-09-15T06:07:11.115035",
     "status": "completed"
    },
    "tags": []
   },
   "outputs": [
    {
     "data": {
      "text/html": [
       "<div>\n",
       "<style scoped>\n",
       "    .dataframe tbody tr th:only-of-type {\n",
       "        vertical-align: middle;\n",
       "    }\n",
       "\n",
       "    .dataframe tbody tr th {\n",
       "        vertical-align: top;\n",
       "    }\n",
       "\n",
       "    .dataframe thead th {\n",
       "        text-align: right;\n",
       "    }\n",
       "</style>\n",
       "<table border=\"1\" class=\"dataframe\">\n",
       "  <thead>\n",
       "    <tr style=\"text-align: right;\">\n",
       "      <th></th>\n",
       "      <th>count</th>\n",
       "      <th>unique</th>\n",
       "      <th>top</th>\n",
       "      <th>freq</th>\n",
       "    </tr>\n",
       "  </thead>\n",
       "  <tbody>\n",
       "    <tr>\n",
       "      <th>v1</th>\n",
       "      <td>5572</td>\n",
       "      <td>2</td>\n",
       "      <td>ham</td>\n",
       "      <td>4825</td>\n",
       "    </tr>\n",
       "    <tr>\n",
       "      <th>v2</th>\n",
       "      <td>5572</td>\n",
       "      <td>5169</td>\n",
       "      <td>Sorry, I'll call later</td>\n",
       "      <td>30</td>\n",
       "    </tr>\n",
       "    <tr>\n",
       "      <th>Unnamed: 2</th>\n",
       "      <td>50</td>\n",
       "      <td>43</td>\n",
       "      <td>bt not his girlfrnd... G o o d n i g h t . . .@\"</td>\n",
       "      <td>3</td>\n",
       "    </tr>\n",
       "    <tr>\n",
       "      <th>Unnamed: 3</th>\n",
       "      <td>12</td>\n",
       "      <td>10</td>\n",
       "      <td>MK17 92H. 450Ppw 16\"</td>\n",
       "      <td>2</td>\n",
       "    </tr>\n",
       "    <tr>\n",
       "      <th>Unnamed: 4</th>\n",
       "      <td>6</td>\n",
       "      <td>5</td>\n",
       "      <td>GNT:-)\"</td>\n",
       "      <td>2</td>\n",
       "    </tr>\n",
       "  </tbody>\n",
       "</table>\n",
       "</div>"
      ],
      "text/plain": [
       "           count unique                                                top  \\\n",
       "v1          5572      2                                                ham   \n",
       "v2          5572   5169                             Sorry, I'll call later   \n",
       "Unnamed: 2    50     43   bt not his girlfrnd... G o o d n i g h t . . .@\"   \n",
       "Unnamed: 3    12     10                               MK17 92H. 450Ppw 16\"   \n",
       "Unnamed: 4     6      5                                            GNT:-)\"   \n",
       "\n",
       "            freq  \n",
       "v1          4825  \n",
       "v2            30  \n",
       "Unnamed: 2     3  \n",
       "Unnamed: 3     2  \n",
       "Unnamed: 4     2  "
      ]
     },
     "execution_count": 5,
     "metadata": {},
     "output_type": "execute_result"
    }
   ],
   "source": [
    "data.describe().T"
   ]
  },
  {
   "cell_type": "code",
   "execution_count": 6,
   "id": "3fce6524",
   "metadata": {
    "execution": {
     "iopub.execute_input": "2022-09-15T06:07:11.166915Z",
     "iopub.status.busy": "2022-09-15T06:07:11.166563Z",
     "iopub.status.idle": "2022-09-15T06:07:11.173661Z",
     "shell.execute_reply": "2022-09-15T06:07:11.172391Z"
    },
    "papermill": {
     "duration": 0.016791,
     "end_time": "2022-09-15T06:07:11.176133",
     "exception": false,
     "start_time": "2022-09-15T06:07:11.159342",
     "status": "completed"
    },
    "tags": []
   },
   "outputs": [
    {
     "data": {
      "text/plain": [
       "(5572, 5)"
      ]
     },
     "execution_count": 6,
     "metadata": {},
     "output_type": "execute_result"
    }
   ],
   "source": [
    "data.shape"
   ]
  },
  {
   "cell_type": "code",
   "execution_count": 7,
   "id": "3697538e",
   "metadata": {
    "execution": {
     "iopub.execute_input": "2022-09-15T06:07:11.191851Z",
     "iopub.status.busy": "2022-09-15T06:07:11.191212Z",
     "iopub.status.idle": "2022-09-15T06:07:11.201056Z",
     "shell.execute_reply": "2022-09-15T06:07:11.200027Z"
    },
    "papermill": {
     "duration": 0.020429,
     "end_time": "2022-09-15T06:07:11.203086",
     "exception": false,
     "start_time": "2022-09-15T06:07:11.182657",
     "status": "completed"
    },
    "tags": []
   },
   "outputs": [
    {
     "data": {
      "text/plain": [
       "v1               0\n",
       "v2               0\n",
       "Unnamed: 2    5522\n",
       "Unnamed: 3    5560\n",
       "Unnamed: 4    5566\n",
       "dtype: int64"
      ]
     },
     "execution_count": 7,
     "metadata": {},
     "output_type": "execute_result"
    }
   ],
   "source": [
    "data.isnull().sum()"
   ]
  },
  {
   "cell_type": "markdown",
   "id": "18044bd0",
   "metadata": {
    "papermill": {
     "duration": 0.005915,
     "end_time": "2022-09-15T06:07:11.215352",
     "exception": false,
     "start_time": "2022-09-15T06:07:11.209437",
     "status": "completed"
    },
    "tags": []
   },
   "source": [
    "# Droping Features because of a lot of missing values"
   ]
  },
  {
   "cell_type": "code",
   "execution_count": 8,
   "id": "59ea7259",
   "metadata": {
    "execution": {
     "iopub.execute_input": "2022-09-15T06:07:11.229643Z",
     "iopub.status.busy": "2022-09-15T06:07:11.229027Z",
     "iopub.status.idle": "2022-09-15T06:07:11.234190Z",
     "shell.execute_reply": "2022-09-15T06:07:11.233545Z"
    },
    "papermill": {
     "duration": 0.014493,
     "end_time": "2022-09-15T06:07:11.236186",
     "exception": false,
     "start_time": "2022-09-15T06:07:11.221693",
     "status": "completed"
    },
    "tags": []
   },
   "outputs": [],
   "source": [
    "data.drop(['Unnamed: 2', 'Unnamed: 3', 'Unnamed: 4'],axis=1,inplace=True)"
   ]
  },
  {
   "cell_type": "code",
   "execution_count": 9,
   "id": "46cd76d5",
   "metadata": {
    "execution": {
     "iopub.execute_input": "2022-09-15T06:07:11.250564Z",
     "iopub.status.busy": "2022-09-15T06:07:11.250004Z",
     "iopub.status.idle": "2022-09-15T06:07:11.411474Z",
     "shell.execute_reply": "2022-09-15T06:07:11.410645Z"
    },
    "papermill": {
     "duration": 0.170985,
     "end_time": "2022-09-15T06:07:11.413603",
     "exception": false,
     "start_time": "2022-09-15T06:07:11.242618",
     "status": "completed"
    },
    "tags": []
   },
   "outputs": [
    {
     "name": "stderr",
     "output_type": "stream",
     "text": [
      "/opt/conda/lib/python3.7/site-packages/seaborn/_decorators.py:43: FutureWarning: Pass the following variable as a keyword arg: x. From version 0.12, the only valid positional argument will be `data`, and passing other arguments without an explicit keyword will result in an error or misinterpretation.\n",
      "  FutureWarning\n"
     ]
    },
    {
     "data": {
      "text/plain": [
       "<AxesSubplot:xlabel='v1', ylabel='count'>"
      ]
     },
     "execution_count": 9,
     "metadata": {},
     "output_type": "execute_result"
    },
    {
     "data": {
      "image/png": "[encoded data removed]",
      "text/plain": [
       "<Figure size 432x288 with 1 Axes>"
      ]
     },
     "metadata": {
      "needs_background": "light"
     },
     "output_type": "display_data"
    }
   ],
   "source": [
    "sns.countplot(data.v1)"
   ]
  },
  {
   "cell_type": "markdown",
   "id": "b7b658e5",
   "metadata": {
    "papermill": {
     "duration": 0.009107,
     "end_time": "2022-09-15T06:07:11.431739",
     "exception": false,
     "start_time": "2022-09-15T06:07:11.422632",
     "status": "completed"
    },
    "tags": []
   },
   "source": [
    "**The Data is Vers Skewed to ham**"
   ]
  },
  {
   "cell_type": "markdown",
   "id": "d41f17e1",
   "metadata": {
    "papermill": {
     "duration": 0.006994,
     "end_time": "2022-09-15T06:07:11.446001",
     "exception": false,
     "start_time": "2022-09-15T06:07:11.439007",
     "status": "completed"
    },
    "tags": []
   },
   "source": [
    "# Label Encoding"
   ]
  },
  {
   "cell_type": "code",
   "execution_count": 10,
   "id": "e518f776",
   "metadata": {
    "execution": {
     "iopub.execute_input": "2022-09-15T06:07:11.462045Z",
     "iopub.status.busy": "2022-09-15T06:07:11.461703Z",
     "iopub.status.idle": "2022-09-15T06:07:11.467974Z",
     "shell.execute_reply": "2022-09-15T06:07:11.467292Z"
    },
    "papermill": {
     "duration": 0.016183,
     "end_time": "2022-09-15T06:07:11.469517",
     "exception": false,
     "start_time": "2022-09-15T06:07:11.453334",
     "status": "completed"
    },
    "tags": []
   },
   "outputs": [],
   "source": [
    "X = data.v2\n",
    "Y = data.v1\n",
    "le = LabelEncoder()\n",
    "Y = le.fit_transform(Y)"
   ]
  },
  {
   "cell_type": "code",
   "execution_count": 11,
   "id": "89ff6263",
   "metadata": {
    "execution": {
     "iopub.execute_input": "2022-09-15T06:07:11.485229Z",
     "iopub.status.busy": "2022-09-15T06:07:11.484662Z",
     "iopub.status.idle": "2022-09-15T06:07:11.489052Z",
     "shell.execute_reply": "2022-09-15T06:07:11.488317Z"
    },
    "papermill": {
     "duration": 0.014986,
     "end_time": "2022-09-15T06:07:11.491449",
     "exception": false,
     "start_time": "2022-09-15T06:07:11.476463",
     "status": "completed"
    },
    "tags": []
   },
   "outputs": [],
   "source": [
    "Y = Y.reshape(-1,1)"
   ]
  },
  {
   "cell_type": "code",
   "execution_count": 12,
   "id": "71af3c50",
   "metadata": {
    "execution": {
     "iopub.execute_input": "2022-09-15T06:07:11.508370Z",
     "iopub.status.busy": "2022-09-15T06:07:11.507221Z",
     "iopub.status.idle": "2022-09-15T06:07:11.513901Z",
     "shell.execute_reply": "2022-09-15T06:07:11.513026Z"
    },
    "papermill": {
     "duration": 0.017442,
     "end_time": "2022-09-15T06:07:11.516260",
     "exception": false,
     "start_time": "2022-09-15T06:07:11.498818",
     "status": "completed"
    },
    "tags": []
   },
   "outputs": [],
   "source": [
    "X_train,X_test,Y_train,Y_test = train_test_split(X,Y,test_size = 0.2)"
   ]
  },
  {
   "cell_type": "markdown",
   "id": "ff30747e",
   "metadata": {
    "papermill": {
     "duration": 0.006683,
     "end_time": "2022-09-15T06:07:11.529873",
     "exception": false,
     "start_time": "2022-09-15T06:07:11.523190",
     "status": "completed"
    },
    "tags": []
   },
   "source": [
    "# Text Process"
   ]
  },
  {
   "cell_type": "code",
   "execution_count": 13,
   "id": "358541bd",
   "metadata": {
    "execution": {
     "iopub.execute_input": "2022-09-15T06:07:11.546081Z",
     "iopub.status.busy": "2022-09-15T06:07:11.545222Z",
     "iopub.status.idle": "2022-09-15T06:07:11.729018Z",
     "shell.execute_reply": "2022-09-15T06:07:11.727106Z"
    },
    "papermill": {
     "duration": 0.194882,
     "end_time": "2022-09-15T06:07:11.731677",
     "exception": false,
     "start_time": "2022-09-15T06:07:11.536795",
     "status": "completed"
    },
    "tags": []
   },
   "outputs": [],
   "source": [
    "max_word = 1000\n",
    "max_len = 250\n",
    "token = Tokenizer(num_words = max_word)\n",
    "token.fit_on_texts(X_train)\n",
    "sequences = token.texts_to_sequences(X_train)\n",
    "seq_matrix = sequence.pad_sequences(sequences , maxlen = max_len)"
   ]
  },
  {
   "cell_type": "markdown",
   "id": "50dddc8a",
   "metadata": {
    "papermill": {
     "duration": 0.006643,
     "end_time": "2022-09-15T06:07:11.745184",
     "exception": false,
     "start_time": "2022-09-15T06:07:11.738541",
     "status": "completed"
    },
    "tags": []
   },
   "source": [
    "# Building the LSTM model"
   ]
  },
  {
   "cell_type": "code",
   "execution_count": 14,
   "id": "46d413be",
   "metadata": {
    "execution": {
     "iopub.execute_input": "2022-09-15T06:07:11.760924Z",
     "iopub.status.busy": "2022-09-15T06:07:11.760590Z",
     "iopub.status.idle": "2022-09-15T06:07:12.151094Z",
     "shell.execute_reply": "2022-09-15T06:07:12.150154Z"
    },
    "papermill": {
     "duration": 0.401505,
     "end_time": "2022-09-15T06:07:12.153680",
     "exception": false,
     "start_time": "2022-09-15T06:07:11.752175",
     "status": "completed"
    },
    "tags": []
   },
   "outputs": [
    {
     "name": "stderr",
     "output_type": "stream",
     "text": [
      "2022-09-15 06:07:11.799254: I tensorflow/core/common_runtime/process_util.cc:146] Creating new thread pool with default inter op setting: 2. Tune using inter_op_parallelism_threads for best performance.\n"
     ]
    }
   ],
   "source": [
    "#Model\n",
    "model = Sequential()\n",
    "model.add(Embedding(max_word , 32 , input_length = max_len))\n",
    "model.add(LSTM(64))\n",
    "model.add(Flatten())\n",
    "\n",
    "model.add(Dense(250, activation='relu'))\n",
    "model.add(Dropout(0.5))\n",
    "\n",
    "model.add(Dense(120, activation='relu'))\n",
    "\n",
    "model.add(Dense(1, activation='sigmoid'))"
   ]
  },
  {
   "cell_type": "code",
   "execution_count": 15,
   "id": "0ccb69c9",
   "metadata": {
    "execution": {
     "iopub.execute_input": "2022-09-15T06:07:12.169954Z",
     "iopub.status.busy": "2022-09-15T06:07:12.169130Z",
     "iopub.status.idle": "2022-09-15T06:07:12.186114Z",
     "shell.execute_reply": "2022-09-15T06:07:12.184471Z"
    },
    "papermill": {
     "duration": 0.027032,
     "end_time": "2022-09-15T06:07:12.187992",
     "exception": false,
     "start_time": "2022-09-15T06:07:12.160960",
     "status": "completed"
    },
    "tags": []
   },
   "outputs": [
    {
     "name": "stdout",
     "output_type": "stream",
     "text": [
      "Model: \"sequential\"\n",
      "_________________________________________________________________\n",
      "Layer (type)                 Output Shape              Param #   \n",
      "=================================================================\n",
      "embedding (Embedding)        (None, 250, 32)           32000     \n",
      "_________________________________________________________________\n",
      "lstm (LSTM)                  (None, 64)                24832     \n",
      "_________________________________________________________________\n",
      "flatten (Flatten)            (None, 64)                0         \n",
      "_________________________________________________________________\n",
      "dense (Dense)                (None, 250)               16250     \n",
      "_________________________________________________________________\n",
      "dropout (Dropout)            (None, 250)               0         \n",
      "_________________________________________________________________\n",
      "dense_1 (Dense)              (None, 120)               30120     \n",
      "_________________________________________________________________\n",
      "dense_2 (Dense)              (None, 1)                 121       \n",
      "=================================================================\n",
      "Total params: 103,323\n",
      "Trainable params: 103,323\n",
      "Non-trainable params: 0\n",
      "_________________________________________________________________\n"
     ]
    }
   ],
   "source": [
    "# Compile the model\n",
    "model.compile(loss = 'binary_crossentropy' , optimizer = 'RMSprop' , metrics = 'accuracy')\n",
    "model.summary()"
   ]
  },
  {
   "cell_type": "code",
   "execution_count": 16,
   "id": "37c8a846",
   "metadata": {
    "execution": {
     "iopub.execute_input": "2022-09-15T06:07:12.204097Z",
     "iopub.status.busy": "2022-09-15T06:07:12.203492Z",
     "iopub.status.idle": "2022-09-15T06:07:24.717835Z",
     "shell.execute_reply": "2022-09-15T06:07:24.716079Z"
    },
    "papermill": {
     "duration": 12.525684,
     "end_time": "2022-09-15T06:07:24.720859",
     "exception": false,
     "start_time": "2022-09-15T06:07:12.195175",
     "status": "completed"
    },
    "tags": []
   },
   "outputs": [
    {
     "name": "stdout",
     "output_type": "stream",
     "text": [
      "Epoch 1/10\n"
     ]
    },
    {
     "name": "stderr",
     "output_type": "stream",
     "text": [
      "2022-09-15 06:07:12.257740: I tensorflow/compiler/mlir/mlir_graph_optimization_pass.cc:185] None of the MLIR Optimization Passes are enabled (registered 2)\n"
     ]
    },
    {
     "name": "stdout",
     "output_type": "stream",
     "text": [
      "28/28 [==============================] - 12s 360ms/step - loss: 0.3384 - accuracy: 0.8676 - val_loss: 0.1561 - val_accuracy: 0.9765\n"
     ]
    },
    {
     "data": {
      "text/plain": [
       "<keras.callbacks.History at 0x7f818430ded0>"
      ]
     },
     "execution_count": 16,
     "metadata": {},
     "output_type": "execute_result"
    }
   ],
   "source": [
    "model.fit(seq_matrix,Y_train,batch_size=128,epochs=10,\n",
    "          validation_split=0.2,callbacks=[EarlyStopping(monitor='val_loss',min_delta=0.0001)])"
   ]
  },
  {
   "cell_type": "code",
   "execution_count": 17,
   "id": "d4945879",
   "metadata": {
    "execution": {
     "iopub.execute_input": "2022-09-15T06:07:24.741181Z",
     "iopub.status.busy": "2022-09-15T06:07:24.740571Z",
     "iopub.status.idle": "2022-09-15T06:07:24.769507Z",
     "shell.execute_reply": "2022-09-15T06:07:24.768480Z"
    },
    "papermill": {
     "duration": 0.041494,
     "end_time": "2022-09-15T06:07:24.771665",
     "exception": false,
     "start_time": "2022-09-15T06:07:24.730171",
     "status": "completed"
    },
    "tags": []
   },
   "outputs": [],
   "source": [
    "test_seq = token.texts_to_sequences(X_test)\n",
    "test_seq_matrix = sequence.pad_sequences(test_seq,maxlen=max_len)"
   ]
  },
  {
   "cell_type": "code",
   "execution_count": 18,
   "id": "96bcb456",
   "metadata": {
    "execution": {
     "iopub.execute_input": "2022-09-15T06:07:24.790927Z",
     "iopub.status.busy": "2022-09-15T06:07:24.790291Z",
     "iopub.status.idle": "2022-09-15T06:07:27.127392Z",
     "shell.execute_reply": "2022-09-15T06:07:27.125620Z"
    },
    "papermill": {
     "duration": 2.34971,
     "end_time": "2022-09-15T06:07:27.129973",
     "exception": false,
     "start_time": "2022-09-15T06:07:24.780263",
     "status": "completed"
    },
    "tags": []
   },
   "outputs": [
    {
     "data": {
      "text/plain": [
       "[0.16472172737121582, 0.9784753322601318]"
      ]
     },
     "execution_count": 18,
     "metadata": {},
     "output_type": "execute_result"
    }
   ],
   "source": [
    "scores = model.evaluate(test_seq_matrix, Y_test, verbose=0)\n",
    "scores"
   ]
  },
  {
   "cell_type": "code",
   "execution_count": 19,
   "id": "18b836df",
   "metadata": {
    "execution": {
     "iopub.execute_input": "2022-09-15T06:07:27.149385Z",
     "iopub.status.busy": "2022-09-15T06:07:27.149041Z",
     "iopub.status.idle": "2022-09-15T06:07:27.154531Z",
     "shell.execute_reply": "2022-09-15T06:07:27.153350Z"
    },
    "papermill": {
     "duration": 0.018588,
     "end_time": "2022-09-15T06:07:27.157427",
     "exception": false,
     "start_time": "2022-09-15T06:07:27.138839",
     "status": "completed"
    },
    "tags": []
   },
   "outputs": [
    {
     "name": "stdout",
     "output_type": "stream",
     "text": [
      "Accuracy: 97.85%\n"
     ]
    }
   ],
   "source": [
    "print(\"Accuracy: %.2f%%\" % (scores[1]*100))"
   ]
  }
 ],
 "metadata": {
  "kernelspec": {
   "display_name": "Python 3",
   "language": "python",
   "name": "python3"
  },
  "language_info": {
   "codemirror_mode": {
    "name": "ipython",
    "version": 3
   },
   "file_extension": ".py",
   "mimetype": "text/x-python",
   "name": "python",
   "nbconvert_exporter": "python",
   "pygments_lexer": "ipython3",
   "version": "3.7.12"
  },
  "papermill": {
   "default_parameters": {},
   "duration": 36.018059,
   "end_time": "2022-09-15T06:07:30.508211",
   "environment_variables": {},
   "exception": null,
   "input_path": "__notebook__.ipynb",
   "output_path": "__notebook__.ipynb",
   "parameters": {},
   "start_time": "2022-09-15T06:06:54.490152",
   "version": "2.3.4"
  }
 },
 "nbformat": 4,
 "nbformat_minor": 5
}
